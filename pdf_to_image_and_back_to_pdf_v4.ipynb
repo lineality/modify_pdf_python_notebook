{
  "nbformat": 4,
  "nbformat_minor": 0,
  "metadata": {
    "colab": {
      "provenance": [],
      "collapsed_sections": []
    },
    "kernelspec": {
      "name": "python3",
      "display_name": "Python 3"
    },
    "language_info": {
      "name": "python"
    }
  },
  "cells": [
    {
      "cell_type": "markdown",
      "source": [
        "# Modify PDF\n",
        "\n",
        "Solution for cloud (such as google-colab)\n",
        "or a local (python notebook in a python environment).\n",
        "\n",
        "## Three Part Process:\n",
        "\n",
        "1. Turn pdf into multiple image pages\n",
        "  - upload pdf\n",
        "  - run pymupdf\n",
        "  - (alternately, use screenshots or other method)\n",
        "\n",
        "2. modify images in photo-editor (google drawings)\n",
        "  - use google drawings\n",
        "\n",
        "3. recombine images into one pdf\n",
        "  - upload images\n",
        "  - run img2pdf\n",
        "\n",
        "\n",
        "## Details:\n",
        "  - works for all PDF's in a directory in one run\n",
        "  - works for multi-page PDF docs\n",
        "  - creates a directory for each PDF\n",
        "  - puts all pictures (one per page) in that PDF's directory\n",
        "  - changes can be done in Google Drawings or any photo editor\n",
        "  - note: resolution is not great, using high rez screenshots may be better in some cases. "
      ],
      "metadata": {
        "id": "Kiw_S9UtpfZf"
      }
    },
    {
      "cell_type": "markdown",
      "source": [
        "# Install PyMuPDF"
      ],
      "metadata": {
        "id": "nEmHSYiupkGG"
      }
    },
    {
      "cell_type": "markdown",
      "source": [
        "### References:\n",
        "\n",
        "https://stackoverflow.com/questions/56418948/converting-pdf-to-image-without-non-python-dependencies\n",
        "\n",
        "https://pymupdf.readthedocs.io/en/latest/tutorial.html\n"
      ],
      "metadata": {
        "id": "5GC0U3Sfb3cS"
      }
    },
    {
      "cell_type": "code",
      "execution_count": null,
      "metadata": {
        "id": "9uKYsW-1bleD"
      },
      "outputs": [],
      "source": [
        "# install library in python\n",
        "!pip install PyMuPDF"
      ]
    },
    {
      "cell_type": "code",
      "source": [
        "# import libraries and packages\n",
        "import fitz"
      ],
      "metadata": {
        "id": "IqgeZti0b22M"
      },
      "execution_count": 15,
      "outputs": []
    },
    {
      "cell_type": "code",
      "source": [
        "# see if install worked\n",
        "print(fitz.__doc__)"
      ],
      "metadata": {
        "id": "0F9JD97AcZiu"
      },
      "execution_count": null,
      "outputs": []
    },
    {
      "cell_type": "markdown",
      "source": [
        "# Get all PDF's in local directory"
      ],
      "metadata": {
        "id": "kMo1xW6tppNA"
      }
    },
    {
      "cell_type": "code",
      "source": [
        "# read PDF\n",
        "# doc = fitz.open(\"example.pdf\") \n",
        "import glob\n",
        "\n",
        "pdf_file_list = glob.glob(\"*.pdf\")\n"
      ],
      "metadata": {
        "id": "PL6j3c6icaYi"
      },
      "execution_count": 17,
      "outputs": []
    },
    {
      "cell_type": "markdown",
      "source": [
        "# Helper Functions"
      ],
      "metadata": {
        "id": "r2XVKMbVqEe_"
      }
    },
    {
      "cell_type": "code",
      "source": [
        "\n",
        "def make_dir(dir_name):\n",
        "    # importing os module\n",
        "    import os\n",
        "    \n",
        "    # Leaf directory\n",
        "    directory = dir_name\n",
        "    \n",
        "    # Parent Directories\n",
        "    parent_dir = \"\"\n",
        "    \n",
        "    # Path\n",
        "    path = os.path.join(parent_dir, directory)\n",
        "    \n",
        "    # Create the directory\n",
        "    os.makedirs(path)\n",
        "    print(\"Directory '%s' created\" %directory)\n",
        "    "
      ],
      "metadata": {
        "id": "l5JA5Kc-YqnB"
      },
      "execution_count": 18,
      "outputs": []
    },
    {
      "cell_type": "code",
      "source": [],
      "metadata": {
        "id": "8eZeoANZqOPr"
      },
      "execution_count": null,
      "outputs": []
    },
    {
      "cell_type": "markdown",
      "source": [
        "# Main Script"
      ],
      "metadata": {
        "id": "4TIQApOrqOzr"
      }
    },
    {
      "cell_type": "code",
      "source": [
        "\n",
        "for this_file_name in pdf_file_list:\n",
        "\n",
        "    # make directory for file-name \n",
        "    folder_name = this_file_name + \"_folder\"\n",
        "\n",
        "    make_dir( folder_name )\n",
        "\n",
        "    # read PDF\n",
        "    doc = fitz.open( this_file_name ) \n",
        "\n",
        "    ######################\n",
        "    # Convert PDF to .png\n",
        "    ######################\n",
        "\n",
        "    # iterate through doc pages\n",
        "    for page in doc:\n",
        "\n",
        "        # get pixel map\n",
        "        pix = page.get_pixmap()\n",
        "\n",
        "        # save as image file: .png\n",
        "\n",
        "        file_name = f\"{this_file_name}_page_{page.number}.png\"\n",
        "\n",
        "        file_path = folder_name + \"/\" + file_name\n",
        "        \n",
        "        pix.save( file_path )"
      ],
      "metadata": {
        "id": "qkCoc9jAdkCB"
      },
      "execution_count": null,
      "outputs": []
    },
    {
      "cell_type": "code",
      "source": [
        "!ls"
      ],
      "metadata": {
        "id": "0kbAYxHsdhGI"
      },
      "execution_count": null,
      "outputs": []
    },
    {
      "cell_type": "markdown",
      "source": [
        "# Recombine -> New PDF from changed images"
      ],
      "metadata": {
        "id": "pw1DglS0b6KR"
      }
    },
    {
      "cell_type": "code",
      "source": [
        "! pip install img2pdf"
      ],
      "metadata": {
        "id": "1UULz-IvcMCu"
      },
      "execution_count": null,
      "outputs": []
    },
    {
      "cell_type": "markdown",
      "source": [
        "## terminal command format\n",
        "\n",
        "```\n",
        "$ img2pdf img1.png img2.jpg -o out.pdf\n",
        "```"
      ],
      "metadata": {
        "id": "vAViGwKlqdLO"
      }
    },
    {
      "cell_type": "markdown",
      "source": [
        "# instructions:\n",
        "in colab: cut and paste the 'path' (right click -> copy path) for the image files and past those into the command\n",
        "\n",
        "\n"
      ],
      "metadata": {
        "id": "BOtSoW1mqq82"
      }
    },
    {
      "cell_type": "markdown",
      "source": [
        "### Reference:\n",
        "https://pypi.org/project/img2pdf/"
      ],
      "metadata": {
        "id": "QXQQfyLDrrYd"
      }
    },
    {
      "cell_type": "code",
      "source": [
        "! img2pdf file_path1 file_path2 -o name_of_your_final_file.pdf"
      ],
      "metadata": {
        "id": "4BuIK8nvcUlA"
      },
      "execution_count": 22,
      "outputs": []
    },
    {
      "cell_type": "markdown",
      "source": [
        "## List Files"
      ],
      "metadata": {
        "id": "6SSQU6D_dDDt"
      }
    },
    {
      "cell_type": "code",
      "source": [
        "!ls"
      ],
      "metadata": {
        "id": "mGBmL0PhdDht"
      },
      "execution_count": null,
      "outputs": []
    }
  ]
}